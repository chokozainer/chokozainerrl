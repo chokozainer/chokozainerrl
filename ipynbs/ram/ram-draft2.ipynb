{
 "cells": [
  {
   "cell_type": "markdown",
   "metadata": {
    "colab_type": "text",
    "id": "UcawgFdqlNvD"
   },
   "source": [
    "#最初の一歩\n",
    "　最初に練習するためのノートブックです。\n",
    "\n",
    "　手順に沿ってやってみましょう。\n",
    "\n",
    "　最終更新日　2019年12月15日"
   ]
  },
  {
   "cell_type": "markdown",
   "metadata": {
    "colab_type": "text",
    "id": "d0lgvusy1kwR"
   },
   "source": [
    "#前処理\n",
    "　chokozianerとpyvirtualdisplayをインポートします。\n",
    "\n",
    "　cartpole,pendulum,acrobot,mountaincarに対応しています。"
   ]
  },
  {
   "cell_type": "code",
   "execution_count": 1,
   "metadata": {
    "colab": {},
    "colab_type": "code",
    "id": "JE6ygxAJGlq9"
   },
   "outputs": [],
   "source": [
    "import chokozainerrl\n",
    "from pyvirtualdisplay import Display\n",
    "display = Display(visible=0, size=(1024, 768))\n",
    "display.start()\n",
    "%matplotlib inline\n",
    "thisdir='../../draft/OpenAI/Breakout/result_dqn_choko_ram_draft'"
   ]
  },
  {
   "cell_type": "markdown",
   "metadata": {
    "colab_type": "text",
    "id": "JKBBd8nsl4Ii"
   },
   "source": [
    "#学習前を見る\n",
    "　学習前のCartPoleを見ます。\n",
    " Google drive内に　OpenAI/CartPole/result_dqn_chokoフォルダが作られます。"
   ]
  },
  {
   "cell_type": "code",
   "execution_count": 2,
   "metadata": {
    "colab": {},
    "colab_type": "code",
    "id": "bdmUcuxEl4Ip"
   },
   "outputs": [],
   "source": [
    "#@title Configuration\n",
    "args=chokozainerrl.train_dqn_ram2.make_args([])\n",
    "\n",
    "args.mode = 'check' #@param [\"check\", \"train\"]\n",
    "args.outdir=thisdir #@param{type:\"string\"}\n",
    "args.env = \"Breakout-ramNoFrameskip-v4\" #@param [\"Acrobot-v1\",\"Pendulum-v0\",\"CartPole-v0\",\"MountainCar-v0\"]{allow-input: true}\n",
    "args.save_mp4=thisdir+'/pretrain.mp4'#@param{type:\"string\"}\n",
    "args.max_frames=2000\n"
   ]
  },
  {
   "cell_type": "markdown",
   "metadata": {
    "colab_type": "text",
    "id": "0z0NiPAB2dp4"
   },
   "source": [
    "##Evaluation\n",
    "学習済みのデータを用いて、３回試行した結果が表示されます。動画は、outdir+'/pretrain.mp4'に出力されます。"
   ]
  },
  {
   "cell_type": "code",
   "execution_count": 3,
   "metadata": {
    "colab": {},
    "colab_type": "code",
    "id": "KFsGXoHbJ6j2",
    "scrolled": true
   },
   "outputs": [
    {
     "name": "stdout",
     "output_type": "stream",
     "text": [
      "Set FireResetEnvAuto\n",
      "Discrete(4)\n"
     ]
    },
    {
     "ename": "RuntimeError",
     "evalue": "CUDA environment is not correctly set up\n(see https://github.com/chainer/chainer#installation).CuPy is not correctly installed.\n\nIf you are using wheel distribution (cupy-cudaXX), make sure that the version of CuPy you installed matches with the version of CUDA on your host.\nAlso, confirm that only one CuPy package is installed:\n  $ pip freeze\n\nIf you are building CuPy from source, please check your environment, uninstall CuPy and reinstall it with:\n  $ pip install cupy --no-cache-dir -vvvv\n\nCheck the Installation Guide for details:\n  https://docs-cupy.chainer.org/en/latest/install.html\n\noriginal error: libcuda.so.1: cannot open shared object file: No such file or directory",
     "output_type": "error",
     "traceback": [
      "\u001b[0;31m---------------------------------------------------------------------------\u001b[0m",
      "\u001b[0;31mRuntimeError\u001b[0m                              Traceback (most recent call last)",
      "\u001b[0;32m<ipython-input-3-82d01e2efeec>\u001b[0m in \u001b[0;36m<module>\u001b[0;34m\u001b[0m\n\u001b[1;32m      1\u001b[0m \u001b[0;32mfrom\u001b[0m \u001b[0mIPython\u001b[0m\u001b[0;34m.\u001b[0m\u001b[0mdisplay\u001b[0m \u001b[0;32mimport\u001b[0m \u001b[0mHTML\u001b[0m\u001b[0;34m\u001b[0m\u001b[0;34m\u001b[0m\u001b[0m\n\u001b[0;32m----> 2\u001b[0;31m \u001b[0manim\u001b[0m\u001b[0;34m=\u001b[0m\u001b[0mchokozainerrl\u001b[0m\u001b[0;34m.\u001b[0m\u001b[0mtrain_dqn_ram2\u001b[0m\u001b[0;34m.\u001b[0m\u001b[0mmain\u001b[0m\u001b[0;34m(\u001b[0m\u001b[0margs\u001b[0m\u001b[0;34m)\u001b[0m\u001b[0;34m\u001b[0m\u001b[0;34m\u001b[0m\u001b[0m\n\u001b[0m\u001b[1;32m      3\u001b[0m \u001b[0mHTML\u001b[0m\u001b[0;34m(\u001b[0m\u001b[0manim\u001b[0m\u001b[0;34m.\u001b[0m\u001b[0mto_jshtml\u001b[0m\u001b[0;34m(\u001b[0m\u001b[0;34m)\u001b[0m\u001b[0;34m)\u001b[0m\u001b[0;34m\u001b[0m\u001b[0;34m\u001b[0m\u001b[0m\n",
      "\u001b[0;32m~/anaconda3/envs/chainer/lib/python3.7/site-packages/chokozainerrl/train_dqn_ram2.py\u001b[0m in \u001b[0;36mmain\u001b[0;34m(args)\u001b[0m\n\u001b[1;32m    147\u001b[0m                 \u001b[0mclip_delta\u001b[0m\u001b[0;34m=\u001b[0m\u001b[0;32mTrue\u001b[0m\u001b[0;34m,\u001b[0m\u001b[0;34m\u001b[0m\u001b[0;34m\u001b[0m\u001b[0m\n\u001b[1;32m    148\u001b[0m                 \u001b[0mupdate_interval\u001b[0m\u001b[0;34m=\u001b[0m\u001b[0;36m4\u001b[0m\u001b[0;34m,\u001b[0m\u001b[0;34m\u001b[0m\u001b[0;34m\u001b[0m\u001b[0m\n\u001b[0;32m--> 149\u001b[0;31m                 batch_accumulator='sum', phi=dqn_phi)\n\u001b[0m\u001b[1;32m    150\u001b[0m \u001b[0;34m\u001b[0m\u001b[0m\n\u001b[1;32m    151\u001b[0m     \u001b[0;32mif\u001b[0m \u001b[0margs\u001b[0m\u001b[0;34m.\u001b[0m\u001b[0mload_agent\u001b[0m\u001b[0;34m:\u001b[0m\u001b[0;34m\u001b[0m\u001b[0;34m\u001b[0m\u001b[0m\n",
      "\u001b[0;32m~/anaconda3/envs/chainer/lib/python3.7/site-packages/chainerrl/agents/dqn.py\u001b[0m in \u001b[0;36m__init__\u001b[0;34m(self, q_function, optimizer, replay_buffer, gamma, explorer, gpu, replay_start_size, minibatch_size, update_interval, target_update_interval, clip_delta, phi, target_update_method, soft_update_tau, n_times_update, average_q_decay, average_loss_decay, batch_accumulator, episodic_update, episodic_update_len, logger, batch_states)\u001b[0m\n\u001b[1;32m    134\u001b[0m \u001b[0;34m\u001b[0m\u001b[0m\n\u001b[1;32m    135\u001b[0m         \u001b[0;32mif\u001b[0m \u001b[0mgpu\u001b[0m \u001b[0;32mis\u001b[0m \u001b[0;32mnot\u001b[0m \u001b[0;32mNone\u001b[0m \u001b[0;32mand\u001b[0m \u001b[0mgpu\u001b[0m \u001b[0;34m>=\u001b[0m \u001b[0;36m0\u001b[0m\u001b[0;34m:\u001b[0m\u001b[0;34m\u001b[0m\u001b[0;34m\u001b[0m\u001b[0m\n\u001b[0;32m--> 136\u001b[0;31m             \u001b[0mcuda\u001b[0m\u001b[0;34m.\u001b[0m\u001b[0mget_device\u001b[0m\u001b[0;34m(\u001b[0m\u001b[0mgpu\u001b[0m\u001b[0;34m)\u001b[0m\u001b[0;34m.\u001b[0m\u001b[0muse\u001b[0m\u001b[0;34m(\u001b[0m\u001b[0;34m)\u001b[0m\u001b[0;34m\u001b[0m\u001b[0;34m\u001b[0m\u001b[0m\n\u001b[0m\u001b[1;32m    137\u001b[0m             \u001b[0mself\u001b[0m\u001b[0;34m.\u001b[0m\u001b[0mmodel\u001b[0m\u001b[0;34m.\u001b[0m\u001b[0mto_gpu\u001b[0m\u001b[0;34m(\u001b[0m\u001b[0mdevice\u001b[0m\u001b[0;34m=\u001b[0m\u001b[0mgpu\u001b[0m\u001b[0;34m)\u001b[0m\u001b[0;34m\u001b[0m\u001b[0;34m\u001b[0m\u001b[0m\n\u001b[1;32m    138\u001b[0m \u001b[0;34m\u001b[0m\u001b[0m\n",
      "\u001b[0;32m~/anaconda3/envs/chainer/lib/python3.7/site-packages/chainer/backends/cuda.py\u001b[0m in \u001b[0;36mget_device\u001b[0;34m(*args)\u001b[0m\n\u001b[1;32m    341\u001b[0m     warnings.warn('get_device is deprecated. Please use get_device_from_id or'\n\u001b[1;32m    342\u001b[0m                   ' get_device_from_array instead.', DeprecationWarning)\n\u001b[0;32m--> 343\u001b[0;31m     \u001b[0;32mreturn\u001b[0m \u001b[0m_get_cuda_device\u001b[0m\u001b[0;34m(\u001b[0m\u001b[0;34m*\u001b[0m\u001b[0margs\u001b[0m\u001b[0;34m)\u001b[0m\u001b[0;34m\u001b[0m\u001b[0;34m\u001b[0m\u001b[0m\n\u001b[0m\u001b[1;32m    344\u001b[0m \u001b[0;34m\u001b[0m\u001b[0m\n\u001b[1;32m    345\u001b[0m \u001b[0;34m\u001b[0m\u001b[0m\n",
      "\u001b[0;32m~/anaconda3/envs/chainer/lib/python3.7/site-packages/chainer/backends/cuda.py\u001b[0m in \u001b[0;36m_get_cuda_device\u001b[0;34m(*args)\u001b[0m\n\u001b[1;32m    348\u001b[0m     \u001b[0;32mfor\u001b[0m \u001b[0marg\u001b[0m \u001b[0;32min\u001b[0m \u001b[0margs\u001b[0m\u001b[0;34m:\u001b[0m\u001b[0;34m\u001b[0m\u001b[0;34m\u001b[0m\u001b[0m\n\u001b[1;32m    349\u001b[0m         \u001b[0;32mif\u001b[0m \u001b[0mtype\u001b[0m\u001b[0;34m(\u001b[0m\u001b[0marg\u001b[0m\u001b[0;34m)\u001b[0m \u001b[0;32mis\u001b[0m \u001b[0;32mnot\u001b[0m \u001b[0mbool\u001b[0m \u001b[0;32mand\u001b[0m \u001b[0misinstance\u001b[0m\u001b[0;34m(\u001b[0m\u001b[0marg\u001b[0m\u001b[0;34m,\u001b[0m \u001b[0m_integer_types\u001b[0m\u001b[0;34m)\u001b[0m\u001b[0;34m:\u001b[0m\u001b[0;34m\u001b[0m\u001b[0;34m\u001b[0m\u001b[0m\n\u001b[0;32m--> 350\u001b[0;31m             \u001b[0mcheck_cuda_available\u001b[0m\u001b[0;34m(\u001b[0m\u001b[0;34m)\u001b[0m\u001b[0;34m\u001b[0m\u001b[0;34m\u001b[0m\u001b[0m\n\u001b[0m\u001b[1;32m    351\u001b[0m             \u001b[0;32mreturn\u001b[0m \u001b[0mDevice\u001b[0m\u001b[0;34m(\u001b[0m\u001b[0marg\u001b[0m\u001b[0;34m)\u001b[0m\u001b[0;34m\u001b[0m\u001b[0;34m\u001b[0m\u001b[0m\n\u001b[1;32m    352\u001b[0m         \u001b[0;32mif\u001b[0m \u001b[0misinstance\u001b[0m\u001b[0;34m(\u001b[0m\u001b[0marg\u001b[0m\u001b[0;34m,\u001b[0m \u001b[0mndarray\u001b[0m\u001b[0;34m)\u001b[0m\u001b[0;34m:\u001b[0m\u001b[0;34m\u001b[0m\u001b[0;34m\u001b[0m\u001b[0m\n",
      "\u001b[0;32m~/anaconda3/envs/chainer/lib/python3.7/site-packages/chainer/backends/cuda.py\u001b[0m in \u001b[0;36mcheck_cuda_available\u001b[0;34m()\u001b[0m\n\u001b[1;32m    136\u001b[0m                '(see https://github.com/chainer/chainer#installation).')\n\u001b[1;32m    137\u001b[0m         \u001b[0mmsg\u001b[0m \u001b[0;34m+=\u001b[0m \u001b[0mstr\u001b[0m\u001b[0;34m(\u001b[0m\u001b[0m_resolution_error\u001b[0m\u001b[0;34m)\u001b[0m\u001b[0;34m\u001b[0m\u001b[0;34m\u001b[0m\u001b[0m\n\u001b[0;32m--> 138\u001b[0;31m         \u001b[0;32mraise\u001b[0m \u001b[0mRuntimeError\u001b[0m\u001b[0;34m(\u001b[0m\u001b[0mmsg\u001b[0m\u001b[0;34m)\u001b[0m\u001b[0;34m\u001b[0m\u001b[0;34m\u001b[0m\u001b[0m\n\u001b[0m\u001b[1;32m    139\u001b[0m     if (not cudnn_enabled and\n\u001b[1;32m    140\u001b[0m             \u001b[0;32mnot\u001b[0m \u001b[0m_cudnn_disabled_by_user\u001b[0m \u001b[0;32mand\u001b[0m\u001b[0;34m\u001b[0m\u001b[0;34m\u001b[0m\u001b[0m\n",
      "\u001b[0;31mRuntimeError\u001b[0m: CUDA environment is not correctly set up\n(see https://github.com/chainer/chainer#installation).CuPy is not correctly installed.\n\nIf you are using wheel distribution (cupy-cudaXX), make sure that the version of CuPy you installed matches with the version of CUDA on your host.\nAlso, confirm that only one CuPy package is installed:\n  $ pip freeze\n\nIf you are building CuPy from source, please check your environment, uninstall CuPy and reinstall it with:\n  $ pip install cupy --no-cache-dir -vvvv\n\nCheck the Installation Guide for details:\n  https://docs-cupy.chainer.org/en/latest/install.html\n\noriginal error: libcuda.so.1: cannot open shared object file: No such file or directory"
     ]
    }
   ],
   "source": [
    "from IPython.display import HTML\n",
    "anim=chokozainerrl.train_dqn_ram2.main(args)\n",
    "HTML(anim.to_jshtml())"
   ]
  },
  {
   "cell_type": "markdown",
   "metadata": {
    "colab_type": "text",
    "id": "JY24WPNe1wPn"
   },
   "source": [
    "#学習\n",
    "DQN (Deep Q Learning)\n",
    " \n",
    "右のテーブルを変更すると、左に反映されます。"
   ]
  },
  {
   "cell_type": "code",
   "execution_count": null,
   "metadata": {
    "colab": {},
    "colab_type": "code",
    "id": "irhFZyFe0FB7"
   },
   "outputs": [],
   "source": [
    "#@title Configuration\n",
    "args=chokozainerrl.train_dqn_ram2.make_args([])\n",
    "\n",
    "args.mode = 'train' #@param [\"check\", \"train\"]\n",
    "args.outdir=thisdir #@param{type:\"string\"}\n",
    "args.env = \"Breakout-ramNoFrameskip-v4\" #@param [\"Acrobot-v1\",\"Pendulum-v0\",\"CartPole-v0\",\"MountainCar-v0\"]{allow-input: true}\n",
    "args.gpu=-1 #@param{type:\"integer\"}\n",
    "args.load_agent=None #@param{type:\"string\"}\n",
    "args.steps=1000000 #@param{type:\"integer\"}\n",
    "args.max_frames=30*60*60 #@param{type:\"integer\"}\n",
    "\n",
    "args.step_offset=0 #@param{type:\"integer\"}\n",
    "args.checkpoint_freq=100000 #@param{type:\"integer\"}\n",
    "args.seed=0 #@param{type:\"integer\"}\n",
    "args.final_exploration_steps=100000 #@param{type:\"integer\"}\n",
    "args.start_epsilon=1.0 #@param{type:\"number\"}\n",
    "args.end_epsilon=0.01 #@param{type:\"number\"}\n",
    "args.noisy_net_sigma=None #@param{type:\"number\"}\n",
    "args.prioritized_replay=False #@param{type:\"boolean\"}\n",
    "args.replay_start_size=1000 #@param{type:\"integer\"}\n",
    "args.target_update_interval=100 #@param{type:\"integer\"}\n",
    "args.target_update_method='hard' #@param{type:\"string\"}\n",
    "args.soft_update_tau=0.01 #@param{type:\"number\"}\n",
    "args.update_interval=1 #@param{type:\"integer\"}\n",
    "args.eval_n_runs=5 #@param{type:\"integer\"}\n",
    "args.eval_interval=100000 #@param{type:\"integer\"}\n",
    "args.n_hidden_channels=100 #@param{type:\"integer\"}\n",
    "args.n_hidden_layers=2 #@param{type:\"integer\"}\n",
    "args.gamma=0.99 #@param{type:\"number\"}\n",
    "args.minibatch_size=None #@param{type:\"integer\"}\n",
    "args.reward_scale_factor=1.0 #@param{type:\"number\"}\n",
    "args.log_type=\"pbar\"#@param[\"pbar\",\"full_stream\"]{allow-input: true}\n",
    "\n"
   ]
  },
  {
   "cell_type": "markdown",
   "metadata": {
    "colab_type": "text",
    "id": "TQH6BQmh2D1N"
   },
   "source": [
    "##Train\n",
    "訓練開始です。"
   ]
  },
  {
   "cell_type": "code",
   "execution_count": null,
   "metadata": {
    "colab": {},
    "colab_type": "code",
    "id": "NbH6G70A0I4K",
    "scrolled": true
   },
   "outputs": [],
   "source": [
    "chokozainerrl.train_dqn_ram.main(args)"
   ]
  },
  {
   "cell_type": "markdown",
   "metadata": {
    "colab_type": "text",
    "id": "0xU5D7zD2tMi"
   },
   "source": [
    "##Result\n",
    "学習結果の表です。"
   ]
  },
  {
   "cell_type": "code",
   "execution_count": null,
   "metadata": {
    "colab": {},
    "colab_type": "code",
    "id": "HJD6LkkO20-R"
   },
   "outputs": [],
   "source": [
    "chokozainerrl.show_result.table(args.outdir+'/scores.txt')"
   ]
  },
  {
   "cell_type": "markdown",
   "metadata": {
    "colab_type": "text",
    "id": "vdMkE3sG3EMD"
   },
   "source": [
    "学習結果のグラフです。"
   ]
  },
  {
   "cell_type": "code",
   "execution_count": null,
   "metadata": {
    "colab": {},
    "colab_type": "code",
    "id": "4-7-nE753Hj0"
   },
   "outputs": [],
   "source": [
    "chokozainerrl.show_result.graph(args.outdir+'/scores.txt','steps','average_q')"
   ]
  },
  {
   "cell_type": "markdown",
   "metadata": {
    "colab_type": "text",
    "id": "sysWpKtY2OLk"
   },
   "source": [
    "#学習後の表示"
   ]
  },
  {
   "cell_type": "code",
   "execution_count": null,
   "metadata": {
    "colab": {},
    "colab_type": "code",
    "id": "E818QjRlXM1A"
   },
   "outputs": [],
   "source": [
    "#@title Configuration\n",
    "args=chokozainerrl.train_dqn_ram2.make_args([])\n",
    "\n",
    "args.mode = \"growth\" #@param [\"check\", \"train\",\"growth\"]\n",
    "args.outdir=thisdir #@param{type:\"string\"}\n",
    "args.env = \"Breakout-ramNoFrameskip-v4\" #@param [\"Acrobot-v1\",\"Pendulum-v0\",\"CartPole-v0\",\"MountainCar-v0\"]{allow-input: true}\n",
    "args.gpu=-1 #@param{type:\"integer\"}\n",
    "args.load_agent=thisdir+\"/1000000_finish\" #@param{type:\"string\"}\n",
    "args.save_mp4=thisdir+'/posttrain.mp4'#@param{type:\"string\"}\n"
   ]
  },
  {
   "cell_type": "markdown",
   "metadata": {
    "colab_type": "text",
    "id": "WBqHCXIEnTQe"
   },
   "source": [
    "##Evaluation\n",
    "学習済みのデータを用いて、試行した結果が表示されます。動画は、outdir+'/posttrain.mp4'に出力されます。"
   ]
  },
  {
   "cell_type": "code",
   "execution_count": null,
   "metadata": {
    "colab": {},
    "colab_type": "code",
    "id": "7tM3DvCZnTQm"
   },
   "outputs": [],
   "source": [
    "from IPython.display import HTML\n",
    "anim=chokozainerrl.train_dqn_ram2.main(args)\n",
    "HTML(anim.to_jshtml())"
   ]
  },
  {
   "cell_type": "code",
   "execution_count": null,
   "metadata": {},
   "outputs": [],
   "source": []
  },
  {
   "cell_type": "code",
   "execution_count": null,
   "metadata": {},
   "outputs": [],
   "source": []
  }
 ],
 "metadata": {
  "colab": {
   "collapsed_sections": [],
   "name": "ABC.ipynb",
   "provenance": [
    {
     "file_id": "https://github.com/chokozainer/chokozainerrl/blob/master/ipynbs/ABC.ipynb",
     "timestamp": 1575874753032
    },
    {
     "file_id": "1C19aWqIHgx5HrvZ1i3zja_fRlM9-_DXs",
     "timestamp": 1575425918644
    },
    {
     "file_id": "1YHU3pIfkgR-Kd76QjtLhyVEUbUaxxk7T",
     "timestamp": 1575423852713
    },
    {
     "file_id": "https://github.com/chokozainer/chokozainerrl/blob/master/ipynbs/pendulum_dqn_chokozainer.ipynb",
     "timestamp": 1575347349018
    }
   ]
  },
  "kernelspec": {
   "display_name": "Python 3",
   "language": "python",
   "name": "python3"
  },
  "language_info": {
   "codemirror_mode": {
    "name": "ipython",
    "version": 3
   },
   "file_extension": ".py",
   "mimetype": "text/x-python",
   "name": "python",
   "nbconvert_exporter": "python",
   "pygments_lexer": "ipython3",
   "version": "3.7.5"
  }
 },
 "nbformat": 4,
 "nbformat_minor": 1
}
