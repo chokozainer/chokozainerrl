{
 "cells": [
  {
   "cell_type": "markdown",
   "metadata": {
    "colab_type": "text",
    "id": "UcawgFdqlNvD"
   },
   "source": [
    "#最初の一歩\n",
    "　最初に練習するためのノートブックです。\n",
    "\n",
    "　手順に沿ってやってみましょう。\n",
    "\n",
    "　最終更新日　２０１９年１２月９日"
   ]
  },
  {
   "cell_type": "markdown",
   "metadata": {
    "colab_type": "text",
    "id": "d0lgvusy1kwR"
   },
   "source": [
    "#前処理\n",
    "　chokozianerとpyvirtualdisplayをインポートします。\n",
    "\n",
    "　cartpole,pendulum,acrobot,mountaincarに対応しています。"
   ]
  },
  {
   "cell_type": "code",
   "execution_count": 0,
   "metadata": {
    "colab": {},
    "colab_type": "code",
    "id": "JE6ygxAJGlq9"
   },
   "outputs": [],
   "source": [
    "import chokozainerrl\n",
    "from pyvirtualdisplay import Display\n",
    "display = Display(visible=0, size=(1024, 768))\n",
    "display.start()\n",
    "%matplotlib inline\n",
    "thisdir='mydrive/OpenAI/CartPole/result_dqn_choko'"
   ]
  },
  {
   "cell_type": "markdown",
   "metadata": {
    "colab_type": "text",
    "id": "JKBBd8nsl4Ii"
   },
   "source": [
    "#学習前を見る\n",
    "　学習前のCartPoleを見ます。\n",
    " Google drive内に　OpenAI/CartPole/result_dqn_chokoフォルダが作られます。"
   ]
  },
  {
   "cell_type": "code",
   "execution_count": 0,
   "metadata": {
    "colab": {},
    "colab_type": "code",
    "id": "bdmUcuxEl4Ip"
   },
   "outputs": [],
   "source": [
    "#@title Configuration\n",
    "args=chokozainerrl.train_dqn_gym.make_args([])\n",
    "\n",
    "args.mode = 'check' #@param [\"check\", \"train\"]\n",
    "args.outdir=thisdir #@param{type:\"string\"}\n",
    "args.env = \"CartPole-v0\" #@param [\"Acrobot-v1\",\"Pendulum-v0\",\"CartPole-v0\",\"MountainCar-v0\"]{allow-input: true}\n",
    "args.save_mp4=thisdir+'/pretrain.mp4'#@param{type:\"string\"}\n"
   ]
  },
  {
   "cell_type": "markdown",
   "metadata": {
    "colab_type": "text",
    "id": "0z0NiPAB2dp4"
   },
   "source": [
    "##Evaluation\n",
    "学習済みのデータを用いて、３回試行した結果が表示されます。動画は、outdir+'/pretrain.mp4'に出力されます。"
   ]
  },
  {
   "cell_type": "code",
   "execution_count": 0,
   "metadata": {
    "colab": {},
    "colab_type": "code",
    "id": "KFsGXoHbJ6j2"
   },
   "outputs": [],
   "source": [
    "from IPython.display import HTML\n",
    "anim=chokozainerrl.train_dqn_gym.main(args)\n",
    "HTML(anim.to_jshtml())"
   ]
  },
  {
   "cell_type": "markdown",
   "metadata": {
    "colab_type": "text",
    "id": "JY24WPNe1wPn"
   },
   "source": [
    "#学習\n",
    "DQN (Deep Q Learning)\n",
    " \n",
    "右のテーブルを変更すると、左に反映されます。"
   ]
  },
  {
   "cell_type": "code",
   "execution_count": 0,
   "metadata": {
    "colab": {},
    "colab_type": "code",
    "id": "irhFZyFe0FB7"
   },
   "outputs": [],
   "source": [
    "#@title Configuration\n",
    "args=chokozainerrl.train_dqn_gym.make_args([])\n",
    "\n",
    "args.mode = 'train' #@param [\"check\", \"train\"]\n",
    "args.outdir=thisdir #@param{type:\"string\"}\n",
    "args.env = \"CartPole-v0\" #@param [\"Acrobot-v1\",\"Pendulum-v0\",\"CartPole-v0\",\"MountainCar-v0\"]{allow-input: true}\n",
    "args.gpu=-1 #@param{type:\"integer\"}\n",
    "args.load_agent=None #@param{type:\"string\"}\n",
    "args.steps=100000 #@param{type:\"integer\"}\n",
    "args.step_offset=0 #@param{type:\"integer\"}\n",
    "args.checkpoint_freq=10000 #@param{type:\"integer\"}\n",
    "args.seed=0 #@param{type:\"integer\"}\n",
    "args.final_exploration_steps=10000 #@param{type:\"integer\"}\n",
    "args.start_epsilon=1.0 #@param{type:\"number\"}\n",
    "args.end_epsilon=0.1 #@param{type:\"number\"}\n",
    "args.noisy_net_sigma=None #@param{type:\"number\"}\n",
    "args.prioritized_replay=False #@param{type:\"boolean\"}\n",
    "args.replay_start_size=1000 #@param{type:\"integer\"}\n",
    "args.target_update_interval=100 #@param{type:\"integer\"}\n",
    "args.target_update_method='hard' #@param{type:\"string\"}\n",
    "args.soft_update_tau=0.01 #@param{type:\"number\"}\n",
    "args.update_interval=1 #@param{type:\"integer\"}\n",
    "args.eval_n_runs=100 #@param{type:\"integer\"}\n",
    "args.eval_interval=10000 #@param{type:\"integer\"}\n",
    "args.n_hidden_channels=100 #@param{type:\"integer\"}\n",
    "args.n_hidden_layers=2 #@param{type:\"integer\"}\n",
    "args.gamma=0.99 #@param{type:\"number\"}\n",
    "args.minibatch_size=None #@param{type:\"integer\"}\n",
    "args.reward_scale_factor=0.001 #@param{type:\"number\"}\n",
    "args.log_type=\"pbar\"#@param[\"pbar\",\"full_stream\"]{allow-input: true}\n",
    "\n"
   ]
  },
  {
   "cell_type": "markdown",
   "metadata": {
    "colab_type": "text",
    "id": "TQH6BQmh2D1N"
   },
   "source": [
    "##Train\n",
    "訓練開始です。"
   ]
  },
  {
   "cell_type": "code",
   "execution_count": 0,
   "metadata": {
    "colab": {},
    "colab_type": "code",
    "id": "NbH6G70A0I4K"
   },
   "outputs": [],
   "source": [
    "chokozainerrl.train_dqn_gym.main(args)"
   ]
  },
  {
   "cell_type": "markdown",
   "metadata": {
    "colab_type": "text",
    "id": "0xU5D7zD2tMi"
   },
   "source": [
    "##Result\n",
    "学習結果の表です。"
   ]
  },
  {
   "cell_type": "code",
   "execution_count": 0,
   "metadata": {
    "colab": {},
    "colab_type": "code",
    "id": "HJD6LkkO20-R"
   },
   "outputs": [],
   "source": [
    "chokozainerrl.show_result.table(args.outdir+'/scores.txt')"
   ]
  },
  {
   "cell_type": "markdown",
   "metadata": {
    "colab_type": "text",
    "id": "vdMkE3sG3EMD"
   },
   "source": [
    "学習結果のグラフです。"
   ]
  },
  {
   "cell_type": "code",
   "execution_count": 0,
   "metadata": {
    "colab": {},
    "colab_type": "code",
    "id": "4-7-nE753Hj0"
   },
   "outputs": [],
   "source": [
    "chokozainerrl.show_result.graph(args.outdir+'/scores.txt','steps','average_q')"
   ]
  },
  {
   "cell_type": "markdown",
   "metadata": {
    "colab_type": "text",
    "id": "sysWpKtY2OLk"
   },
   "source": [
    "#学習後の表示"
   ]
  },
  {
   "cell_type": "code",
   "execution_count": 0,
   "metadata": {
    "colab": {},
    "colab_type": "code",
    "id": "E818QjRlXM1A"
   },
   "outputs": [],
   "source": [
    "#@title Configuration\n",
    "args=chokozainerrl.train_dqn_gym.make_args([])\n",
    "\n",
    "args.mode = 'check' #@param [\"check\", \"train\"]\n",
    "args.outdir=thisdir #@param{type:\"string\"}\n",
    "args.env = \"CartPole-v0\" #@param [\"Acrobot-v1\",\"Pendulum-v0\",\"CartPole-v0\",\"MountainCar-v0\"]{allow-input: true}\n",
    "args.gpu=-1 #@param{type:\"integer\"}\n",
    "args.load_agent=thisdir+\"/100000_finish\" #@param{type:\"string\"}\n",
    "args.save_mp4=thisdir+'/posttrain.mp4'#@param{type:\"string\"}\n"
   ]
  },
  {
   "cell_type": "markdown",
   "metadata": {
    "colab_type": "text",
    "id": "WBqHCXIEnTQe"
   },
   "source": [
    "##Evaluation\n",
    "学習済みのデータを用いて、３回試行した結果が表示されます。動画は、outdir+'/posttrain.mp4'に出力されます。"
   ]
  },
  {
   "cell_type": "code",
   "execution_count": 0,
   "metadata": {
    "colab": {},
    "colab_type": "code",
    "id": "7tM3DvCZnTQm"
   },
   "outputs": [],
   "source": [
    "from IPython.display import HTML\n",
    "anim=chokozainerrl.train_dqn_gym.main(args)\n",
    "HTML(anim.to_jshtml())"
   ]
  }
 ],
 "metadata": {
  "colab": {
   "collapsed_sections": [],
   "name": "ABC.ipynb",
   "provenance": [
    {
     "file_id": "https://github.com/chokozainer/chokozainerrl/blob/master/ipynbs/ABC.ipynb",
     "timestamp": 1575874753032
    },
    {
     "file_id": "1C19aWqIHgx5HrvZ1i3zja_fRlM9-_DXs",
     "timestamp": 1575425918644
    },
    {
     "file_id": "1YHU3pIfkgR-Kd76QjtLhyVEUbUaxxk7T",
     "timestamp": 1575423852713
    },
    {
     "file_id": "https://github.com/chokozainer/chokozainerrl/blob/master/ipynbs/pendulum_dqn_chokozainer.ipynb",
     "timestamp": 1575347349018
    }
   ]
  },
  "kernelspec": {
   "display_name": "Python 3",
   "language": "python",
   "name": "python3"
  },
  "language_info": {
   "codemirror_mode": {
    "name": "ipython",
    "version": 3
   },
   "file_extension": ".py",
   "mimetype": "text/x-python",
   "name": "python",
   "nbconvert_exporter": "python",
   "pygments_lexer": "ipython3",
   "version": "3.7.5"
  }
 },
 "nbformat": 4,
 "nbformat_minor": 1
}
